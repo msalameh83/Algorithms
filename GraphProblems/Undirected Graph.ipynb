{
 "cells": [
  {
   "cell_type": "code",
   "execution_count": 105,
   "metadata": {
    "collapsed": true
   },
   "outputs": [],
   "source": [
    "from collections import defaultdict\n",
    "import networkx as nx\n",
    "import numpy as np\n",
    "import matplotlib.pyplot as plt"
   ]
  },
  {
   "cell_type": "code",
   "execution_count": 41,
   "metadata": {},
   "outputs": [],
   "source": [
    "class UG():\n",
    "    \n",
    "    def __init__(self,gr_tuples):\n",
    "        self.graph = defaultdict(list) # adjacency lists\n",
    "    \n",
    "        for (w,v) in gr_tuples:\n",
    "            self.addEdge(w,v)\n",
    "\n",
    "    def addEdge(self, v, w):\n",
    "        self.graph[v].append(w)\n",
    "        self.graph[w].append(v)\n",
    "    \n",
    "    # vertices adjacent to v\n",
    "    def adj(self,v):\n",
    "        return self.graph[v]\n",
    "\n",
    "    # number of vertices\n",
    "    def V(self):\n",
    "        return len(self.graph)\n",
    "    \n",
    "    # number of edges\n",
    "    def E(self):\n",
    "        return sum(len(self.graph[i]) for i in self.graph)\n",
    "\n",
    "    def __iter__(self):\n",
    "        return iter(self.graph)\n",
    "    \n",
    "    # string representation\n",
    "    def __str__(self):        \n",
    "        return '\\n'.join(['%i -> %s'%( v, ', '.join(map(str, self.graph[v]))) \n",
    "                          for v in self.graph])\n",
    "            \n",
    "\n",
    "        "
   ]
  },
  {
   "cell_type": "code",
   "execution_count": 118,
   "metadata": {},
   "outputs": [
    {
     "data": {
      "image/png": "[encoded data removed]",
      "text/plain": [
       "<matplotlib.figure.Figure at 0x7fb7ed8fc198>"
      ]
     },
     "metadata": {},
     "output_type": "display_data"
    }
   ],
   "source": [
    "import math\n",
    "G = nx.Graph()\n",
    "G.add_edges_from(gtup)\n",
    "pos = nx.spring_layout(G, scale=3, k=5/math.sqrt(G.order()))\n",
    "nx.draw_networkx(G, pos)\n",
    "plt.show()"
   ]
  },
  {
   "cell_type": "code",
   "execution_count": 42,
   "metadata": {
    "collapsed": true
   },
   "outputs": [],
   "source": [
    "gtup=[(0,5),(4,3),(0,1),(9,12),(6,4),(5,4),(0,2),(11,12),(9,10),(0,6),(7,8),(9,11),(5,3)]\n",
    "und_graph = UG(gtup)"
   ]
  },
  {
   "cell_type": "code",
   "execution_count": 43,
   "metadata": {},
   "outputs": [
    {
     "name": "stdout",
     "output_type": "stream",
     "text": [
      "0 -> 5, 1, 2, 6\n",
      "1 -> 0\n",
      "2 -> 0\n",
      "3 -> 4, 5\n",
      "4 -> 3, 6, 5\n",
      "5 -> 0, 4, 3\n",
      "6 -> 4, 0\n",
      "7 -> 8\n",
      "8 -> 7\n",
      "9 -> 12, 10, 11\n",
      "10 -> 9\n",
      "11 -> 12, 9\n",
      "12 -> 9, 11\n"
     ]
    }
   ],
   "source": [
    "print(und_graph)"
   ]
  },
  {
   "cell_type": "code",
   "execution_count": 68,
   "metadata": {
    "collapsed": true
   },
   "outputs": [],
   "source": [
    "def degree(G, v):\n",
    "    return len(G.adj(v))\n",
    "\n",
    "def max_degree(G):\n",
    "    return max([len(G.adj(v)) for v in G])\n",
    "\n",
    "def avg_degree(G):\n",
    "    return 2.0 * G.E()/G.V()\n",
    "\n",
    "def number_of_self_loops(G):\n",
    "    count = 0\n",
    "    for v in G:\n",
    "        for w in G.adj(v):\n",
    "            if v == w:\n",
    "                count += 1\n",
    "    # each edge counted twice\n",
    "    return count/2 "
   ]
  },
  {
   "cell_type": "code",
   "execution_count": 69,
   "metadata": {},
   "outputs": [
    {
     "data": {
      "text/plain": [
       "2"
      ]
     },
     "execution_count": 69,
     "metadata": {},
     "output_type": "execute_result"
    }
   ],
   "source": [
    "degree(und_graph,3)"
   ]
  },
  {
   "cell_type": "code",
   "execution_count": 70,
   "metadata": {},
   "outputs": [
    {
     "data": {
      "text/plain": [
       "4"
      ]
     },
     "execution_count": 70,
     "metadata": {},
     "output_type": "execute_result"
    }
   ],
   "source": [
    "max_degree(und_graph)"
   ]
  },
  {
   "cell_type": "code",
   "execution_count": 71,
   "metadata": {},
   "outputs": [
    {
     "data": {
      "text/plain": [
       "4.0"
      ]
     },
     "execution_count": 71,
     "metadata": {},
     "output_type": "execute_result"
    }
   ],
   "source": [
    "avg_degree(und_graph)"
   ]
  },
  {
   "cell_type": "code",
   "execution_count": 72,
   "metadata": {},
   "outputs": [
    {
     "data": {
      "text/plain": [
       "0.0"
      ]
     },
     "execution_count": 72,
     "metadata": {},
     "output_type": "execute_result"
    }
   ],
   "source": [
    "number_of_self_loops(und_graph)"
   ]
  },
  {
   "cell_type": "markdown",
   "metadata": {},
   "source": [
    "![](imgs/ug1.png)"
   ]
  },
  {
   "cell_type": "markdown",
   "metadata": {},
   "source": [
    "## Depth First Traversal"
   ]
  },
  {
   "cell_type": "markdown",
   "metadata": {},
   "source": [
    "- Goal:  Systematically search through a graph\n",
    "- Typical applications.\n",
    "    -  Find all vertices connected to a given source vertex.\n",
    "    -  Find a path between two vertices."
   ]
  },
  {
   "cell_type": "markdown",
   "metadata": {},
   "source": [
    "![](imgs/ug2.png)"
   ]
  },
  {
   "cell_type": "markdown",
   "metadata": {},
   "source": [
    "- find all vertices connected to source vertix\n",
    "- Put unvisited vertices on a stack. \n",
    "- DFS marks all vertices connected to s in time proportional to the sum of their degrees.\n",
    "- After DFS, can find vertices connected to s in constant time and can find a path to s (if one exists) in time proportional to its length.\n"
   ]
  },
  {
   "cell_type": "code",
   "execution_count": 3,
   "metadata": {
    "collapsed": true
   },
   "outputs": [],
   "source": [
    "class DepthFirstPaths(object):\n",
    "\n",
    "    def __init__(self,graph,s):\n",
    "        self.marked = defaultdict(bool) # marked visited vertices\n",
    "        self.edgeTo = {}  # keep tree of paths;\n",
    "        self.dfs(graph,s)\n",
    "\n",
    "    def dfs(self,graph,v):\n",
    "        self.marked[v]=True\n",
    "        for w in graph.adj(v):\n",
    "            if not self.marked[w]:\n",
    "                self.dfs(graph,w)\n",
    "                self.edgeTo[w]=v # means that edge v-w taken to visit w for first time"
   ]
  },
  {
   "cell_type": "markdown",
   "metadata": {},
   "source": [
    "## Breadth First Traversal"
   ]
  },
  {
   "cell_type": "markdown",
   "metadata": {},
   "source": [
    "- BFS examines vertices in increasing distance from s.\n",
    "- BFS computes shortest paths (fewest number of edges) from s to all other vertices in a graph in time proportional to E + V."
   ]
  },
  {
   "cell_type": "code",
   "execution_count": null,
   "metadata": {
    "collapsed": true
   },
   "outputs": [],
   "source": []
  },
  {
   "cell_type": "code",
   "execution_count": null,
   "metadata": {
    "collapsed": true
   },
   "outputs": [],
   "source": []
  },
  {
   "cell_type": "code",
   "execution_count": null,
   "metadata": {
    "collapsed": true
   },
   "outputs": [],
   "source": [
    "from collections import deque\n",
    "class BreadthFirstPaths(object):\n",
    "    \"\"\"\n",
    "    -Find path from s to t that uses fewest number of edges\n",
    "    -Put unvisited vertices on a queue.\n",
    "    -BFS examines vertices in increasing distance from s.\n",
    "    -BFS computes shortest paths (fewest number of edges)\n",
    "     from s to all other vertices in a graph in time proportional to E + V\n",
    "    \"\"\"\n",
    "    def __init__(self,graph,s):\n",
    "        self.marked=defaultdict(bool)\n",
    "        self.edgeTo={}\n",
    "        self.bfs(graph,s)\n",
    "\n",
    "    def bfs(self,graph,s):\n",
    "        q=deque()\n",
    "        q.append(s)\n",
    "        self.marked[s]=True\n",
    "        while(len(q)> 0):\n",
    "            print (q)\n",
    "            v=q.popleft()\n",
    "            for w in graph.adj(v):\n",
    "                if not self.marked[w]:\n",
    "                    q.append(w)\n",
    "                    self.marked[w]=True\n",
    "                    self.edgeTo[w]=v"
   ]
  },
  {
   "cell_type": "markdown",
   "metadata": {},
   "source": [
    "## Connected Components"
   ]
  },
  {
   "cell_type": "markdown",
   "metadata": {},
   "source": [
    "- Def: Vertices v and w are connected if there is a path between them\n",
    "- Goal: Preprocess graph to answer queries of the form is v connected to w? in constant time \n",
    "- The relation \"is connected to\" is an equivalence relation: \n",
    "    - Reflexive: v is connected to v.\n",
    "    - Symmetric: if v is connected to w, then w is connected to v.\n",
    "    - Transitive: if v connected to w and w connected to x, then v connected to x.\n",
    "\n",
    "- Def: A connected component is a maximal set of connected vertices.    "
   ]
  },
  {
   "cell_type": "code",
   "execution_count": null,
   "metadata": {
    "collapsed": true
   },
   "outputs": [],
   "source": []
  },
  {
   "cell_type": "code",
   "execution_count": 4,
   "metadata": {
    "collapsed": true
   },
   "outputs": [],
   "source": [
    "class ConnectedComponents():\n",
    "    \"\"\"\n",
    "    Vertices v and w are connected if there is a path between them\n",
    "\n",
    "    \"\"\"\n",
    "    def __init__(self,graph):\n",
    "        self.marked=dict((v,False) for v in graph)\n",
    "        self.cc_id=defaultdict(int) # component identifier for v\n",
    "        self.count=0 # number of connected components\n",
    "        self.graph=graph\n",
    "        self.connected() # are v and w connected\n",
    "\n",
    "    def connected(self):\n",
    "        for v in self.graph:\n",
    "            if not self.marked[v]:\n",
    "                self.dfs(self.graph,v)\n",
    "                self.count+=1\n",
    "\n",
    "    def dfs(self,graph,v):\n",
    "        self.marked[v]=True\n",
    "        self.cc_id[v]=self.count\n",
    "        for w in graph.adj(v):\n",
    "            if not self.marked[w]:\n",
    "                self.dfs(graph,w)\n",
    "\n"
   ]
  },
  {
   "cell_type": "code",
   "execution_count": null,
   "metadata": {
    "collapsed": true
   },
   "outputs": [],
   "source": [
    "\n",
    "\n",
    "class M_Color():\n",
    "    \"\"\"\n",
    "    http://www.geeksforgeeks.org/backttracking-set-5-m-coloring-problem/\n",
    "    uses backtracking\n",
    "    Given an undirected graph and a number m, determine if the graph\n",
    "    can be colored with at most m colors such that no two adjacent\n",
    "    vertices of the graph are colored with same color. Here coloring\n",
    "    of a graph means assignment of colors to all vertices.\n",
    "\n",
    "    \"\"\"\n",
    "    def __init__(self, G, m):\n",
    "        self.G = G\n",
    "        self.V = len(self.G)\n",
    "        self.color = [0] * self.V\n",
    "        self.m = m\n",
    "        self.coloring(m, 0)\n",
    "\n",
    "    def is_safe(self, v, c):\n",
    "        # check if the current color assignment is safe for vertex v\n",
    "        for i in range(self.V):\n",
    "            if self.G[v][i] == 1 and c == self.color[i]:\n",
    "                return False\n",
    "        return True\n",
    "\n",
    "    def coloring(self, m, v):\n",
    "        # base case: If all vertices are assigned a color then return true\n",
    "        if v == self.V:\n",
    "            return True\n",
    "\n",
    "        # Consider this vertex v and try different colors\n",
    "        for c in range(1, self.m + 1):\n",
    "            # Check if assignment of color c to v is fine\n",
    "            if self.is_safe(v, c):\n",
    "                self.color[v] = c\n",
    "\n",
    "                # recur to assign colors to rest of the vertices\n",
    "                if self.coloring(self.m, v + 1):\n",
    "                    return True\n",
    "\n",
    "                # If assigning color c doesn't lead to a solution then remove it\n",
    "                self.color[v] = 0\n",
    "\n",
    "        # If no color can be assigned to this vertex then return false\n",
    "        return False\n",
    "\n",
    "\n",
    "\n",
    "graph = [[0, 1, 1, 1],\n",
    "         [1, 0, 1, 0],\n",
    "         [1, 1, 0, 1],\n",
    "         [1, 0, 1, 0]]\n",
    "# (3)---(2)\n",
    "#  |   / |\n",
    "#  |  /  |\n",
    "#  | /   |\n",
    "# (0)---(1)\n",
    "\n",
    "m = 3 # Number of colors\n",
    "clr = M_Color(graph, m)\n",
    "print (clr.color) # [1, 2, 3, 2]\n",
    "\n",
    "\n",
    "\n",
    "\n",
    "\n",
    "\n",
    "\n",
    "# gtup=[(0,5),(4,3),(0,1),(9,12),(6,4),(5,4),(0,2),(11,12),(9,10),(0,6),(7,8),(9,11),(5,3)]\n",
    "# # gtup=[(0,5), (2,4), (2,3), (1,2), (0,1), (3,4), (3,5), (0,2)]\n",
    "# myGraph=UG(gtup)\n",
    "# print (myGraph.graph)\n",
    "\n",
    "\n",
    "# dfp=DepthFirstPaths(myGraph,0)\n",
    "# print (dfp.marked)\n",
    "# print (dfp.edgeTo)\n",
    "\n",
    "# bfp=BreadthFirstPaths(myGraph,0)\n",
    "# print (bfp.marked)\n",
    "# print (bfp.edgeTo)\n",
    "\n",
    "\n",
    "# cc=ConnectedComponents(myGraph)\n",
    "# print (cc.cc_id)\n",
    "\n",
    "\n",
    "\n",
    "\n"
   ]
  },
  {
   "cell_type": "code",
   "execution_count": null,
   "metadata": {
    "collapsed": true
   },
   "outputs": [],
   "source": []
  },
  {
   "cell_type": "code",
   "execution_count": null,
   "metadata": {
    "collapsed": true
   },
   "outputs": [],
   "source": []
  },
  {
   "cell_type": "code",
   "execution_count": null,
   "metadata": {
    "collapsed": true
   },
   "outputs": [],
   "source": []
  },
  {
   "cell_type": "code",
   "execution_count": 78,
   "metadata": {
    "collapsed": true
   },
   "outputs": [],
   "source": []
  },
  {
   "cell_type": "code",
   "execution_count": null,
   "metadata": {
    "collapsed": true
   },
   "outputs": [],
   "source": []
  }
 ],
 "metadata": {
  "kernelspec": {
   "display_name": "Python [default]",
   "language": "python",
   "name": "python3"
  },
  "language_info": {
   "codemirror_mode": {
    "name": "ipython",
    "version": 3
   },
   "file_extension": ".py",
   "mimetype": "text/x-python",
   "name": "python",
   "nbconvert_exporter": "python",
   "pygments_lexer": "ipython3",
   "version": "3.5.3"
  }
 },
 "nbformat": 4,
 "nbformat_minor": 2
}
