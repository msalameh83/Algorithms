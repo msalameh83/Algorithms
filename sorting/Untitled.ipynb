{
 "cells": [
  {
   "cell_type": "code",
   "execution_count": 1,
   "metadata": {
    "collapsed": true
   },
   "outputs": [],
   "source": [
    "from random import randint\n",
    "from random import shuffle"
   ]
  },
  {
   "cell_type": "markdown",
   "metadata": {},
   "source": [
    "### Helper functions"
   ]
  },
  {
   "cell_type": "code",
   "execution_count": 14,
   "metadata": {
    "collapsed": true
   },
   "outputs": [],
   "source": [
    "# swap values of 2 indices\n",
    "def swap(arr, i, j):\n",
    "    temp = arr[i]\n",
    "    arr[i] = arr[j]\n",
    "    arr[j] = temp\n",
    "\n",
    "# checks if an array is sorted\n",
    "def is_sorted(arr):\n",
    "    for i in range(1, len(arr)):\n",
    "        if arr[i-1] > arr[i]:\n",
    "            print('Not Sorted')\n",
    "            return\n",
    "    print('TRUE')"
   ]
  },
  {
   "cell_type": "code",
   "execution_count": 11,
   "metadata": {},
   "outputs": [
    {
     "data": {
      "text/plain": [
       "[52, 75, 54, 11, 31, 93, 7, 58, 14, 94, 75, 63, 46, 55, 42]"
      ]
     },
     "execution_count": 11,
     "metadata": {},
     "output_type": "execute_result"
    }
   ],
   "source": [
    "main_array = [randint(0, 100) for i in range(15)]\n",
    "main_array"
   ]
  },
  {
   "cell_type": "markdown",
   "metadata": {},
   "source": [
    "## Bubble sort"
   ]
  },
  {
   "cell_type": "code",
   "execution_count": 2,
   "metadata": {
    "collapsed": true
   },
   "outputs": [],
   "source": [
    "def bubble_sort(arr):\n",
    "    for i in range(len(arr)):\n",
    "        for j in range(len(arr) - 1, i, -1):\n",
    "            if arr[j] < arr[j - 1]:\n",
    "                swap(arr, j, j - 1)"
   ]
  },
  {
   "cell_type": "code",
   "execution_count": 12,
   "metadata": {},
   "outputs": [
    {
     "data": {
      "text/plain": [
       "[52, 75, 54, 11, 31, 93, 7, 58, 14, 94, 75, 63, 46, 55, 42]"
      ]
     },
     "execution_count": 12,
     "metadata": {},
     "output_type": "execute_result"
    }
   ],
   "source": [
    "my_array = main_array\n",
    "my_array"
   ]
  },
  {
   "cell_type": "code",
   "execution_count": 16,
   "metadata": {},
   "outputs": [
    {
     "data": {
      "text/plain": [
       "[7, 11, 14, 31, 42, 46, 52, 54, 55, 58, 63, 75, 75, 93, 94]"
      ]
     },
     "execution_count": 16,
     "metadata": {},
     "output_type": "execute_result"
    }
   ],
   "source": [
    "bubble_sort(my_array)\n",
    "my_array"
   ]
  },
  {
   "cell_type": "markdown",
   "metadata": {},
   "source": [
    "## Selection Sort"
   ]
  },
  {
   "cell_type": "code",
   "execution_count": 3,
   "metadata": {
    "collapsed": true
   },
   "outputs": [],
   "source": [
    "def selection_sort(arr):\n",
    "    for i in range(len(arr)):\n",
    "        minimum = i\n",
    "        for j in range(i + 1, len(arr)):\n",
    "            if arr[j] < arr[minimum]:\n",
    "                minimum = j\n",
    "        swap(arr, i, minimum)"
   ]
  },
  {
   "cell_type": "markdown",
   "metadata": {},
   "source": [
    "## Insertion Sort"
   ]
  },
  {
   "cell_type": "code",
   "execution_count": 4,
   "metadata": {
    "collapsed": true
   },
   "outputs": [],
   "source": [
    "def insertion_sort(arr):\n",
    "    for i in range(1, len(arr)):\n",
    "        j = i\n",
    "        while j > 0:\n",
    "            if arr[j - 1] > arr[j]:\n",
    "                swap(arr, j, j - 1)\n",
    "                j -= 1\n",
    "            else:\n",
    "                break\n"
   ]
  },
  {
   "cell_type": "markdown",
   "metadata": {},
   "source": [
    "## Shell Sort"
   ]
  },
  {
   "cell_type": "code",
   "execution_count": null,
   "metadata": {
    "collapsed": true
   },
   "outputs": [],
   "source": [
    "def shell_sort(arr):\n",
    "    N = len(arr)\n",
    "    h = 1\n",
    "    while h < N//3:  # set h to largest 3h+1 sequence // 1, 4, 13, 40, 121, 364, ...\n",
    "        h = 3*h +1\n",
    "\n",
    "    while h >= 1: # insertion sort\n",
    "        for i in range(h,N):\n",
    "            j = i\n",
    "            while j >= h:\n",
    "                if arr[j] < arr[j - h]:\n",
    "                    arr[j], arr[j - h] = arr[j - h], arr[j]\n",
    "                j -= h\n",
    "        h = h//3"
   ]
  },
  {
   "cell_type": "markdown",
   "metadata": {},
   "source": [
    "## Merge Sort"
   ]
  },
  {
   "cell_type": "markdown",
   "metadata": {},
   "source": [
    "Basic Plan\n",
    "- Divide array into two halves.\n",
    "- Recursively sort each half.\n",
    "- Merge two halves.\n",
    "\n",
    "Goal\n",
    "* Given two sorted subarrays a[lo] to a[mid] and a[mid+1] to a[hi],\n",
    "replace with sorted subarray a[lo] to a[hi]."
   ]
  },
  {
   "cell_type": "markdown",
   "metadata": {},
   "source": [
    "![alt](imgs/merge1.png)"
   ]
  },
  {
   "cell_type": "markdown",
   "metadata": {},
   "source": [
    "![alt](imgs/merge2.png)"
   ]
  },
  {
   "cell_type": "code",
   "execution_count": null,
   "metadata": {
    "collapsed": true
   },
   "outputs": [],
   "source": [
    "Algorithm\tBest-case\tWorst-case\tAverage-case\tSpace Complexity\tStable?\n",
    "Merge Sort\t\t\t\t\tYes\n",
    "Insertion Sort\t\t\t\t\tYes\n",
    "Bubble Sort\t\t\t\t\tYes\n",
    "Quicksort\t\t\t\t best,  avg\tUsually not*\n",
    "Heapsort\t\t\t\t\tNo\n",
    "Counting Sort\t\t\t\t\tYes\n"
   ]
  },
  {
   "cell_type": "code",
   "execution_count": null,
   "metadata": {
    "collapsed": true
   },
   "outputs": [],
   "source": [
    "def merge_sort(arr):\n",
    "    CUTOFF=10\n",
    "\n",
    "    def sorting(arr, aux, low, high):  # Use insertion sort for small subarrays\n",
    "        if high <= low + CUTOFF -1:\n",
    "            ax = arr[low: high+1]\n",
    "            insertion_sort(ax)\n",
    "            arr[low: high+1] = ax\n",
    "            print ('hi')\n",
    "\n",
    "        # if low < high:\n",
    "        else:\n",
    "            mid = low + (high - low) // 2\n",
    "            sorting(arr, aux, low, mid)\n",
    "            sorting(arr, aux, mid + 1, high)\n",
    "            if arr[mid] < arr[mid + 1]: return # Is biggest item in first half ? smallest\n",
    "                                               # item in second half? helps for partially ordered arrays\n",
    "            merge(arr, aux, low, mid, high)\n",
    "\n",
    "    def merge(arr, aux, low, mid, high):\n",
    "        aux[low:high + 1] = arr[low:high + 1 ]\n",
    "        i = low\n",
    "        j = mid + 1\n",
    "        for k in range(low, high + 1 ):\n",
    "            if i > mid:\n",
    "                arr[k] = aux[j]; j += 1\n",
    "            elif j > high:\n",
    "                arr[k] = aux[i]; i += 1\n",
    "            elif aux[j] < aux[i]:\n",
    "                arr[k] = aux[j]; j += 1\n",
    "            else:\n",
    "                arr[k] = aux[i]; i += 1\n",
    "\n",
    "    aux = list(arr)  # copy list into aux\n",
    "    sorting(arr, aux, 0, len(arr) -1)"
   ]
  },
  {
   "cell_type": "code",
   "execution_count": null,
   "metadata": {
    "collapsed": true
   },
   "outputs": [],
   "source": [
    "def merge_sort_bottom_up(arr):\n",
    "\n",
    "    def merge(arr, aux, low, mid, high):\n",
    "        aux[low:high + 1] = arr[low:high + 1 ]\n",
    "        i = low;\n",
    "        j = mid + 1\n",
    "        for k in range(low, high + 1 ):\n",
    "            if i > mid:\n",
    "                arr[k] = aux[j]; j += 1\n",
    "            elif j > high:\n",
    "                arr[k] = aux[i]; i += 1\n",
    "            elif aux[j] < aux[i]:\n",
    "                arr[k] = aux[j]; j += 1\n",
    "            else:\n",
    "                arr[k] = aux[i]; i += 1\n",
    "\n",
    "    aux=list(arr)\n",
    "    N= len(arr)\n",
    "    sz=1\n",
    "    while sz < N :\n",
    "        lo=0\n",
    "        while lo < N - sz:\n",
    "            merge(arr, aux, lo, lo + sz - 1, min(lo + sz + sz - 1, N - 1))\n",
    "            lo= lo + sz + sz\n",
    "        sz += sz"
   ]
  },
  {
   "cell_type": "markdown",
   "metadata": {},
   "source": [
    "## Quick Sort"
   ]
  },
  {
   "cell_type": "code",
   "execution_count": 6,
   "metadata": {
    "collapsed": true
   },
   "outputs": [],
   "source": [
    "def quick_sort(arr):\n",
    "    def partition(arr, low, high):\n",
    "        pivot = arr[low]\n",
    "        i = low + 1\n",
    "        j = high\n",
    "        while True:\n",
    "            while arr[i] < pivot:\n",
    "                if i == high: break\n",
    "                i += 1\n",
    "\n",
    "            while arr[j] > pivot:\n",
    "                if j == low: break\n",
    "                j -= 1\n",
    "\n",
    "            if i >= j: break\n",
    "            swap(arr, i, j)\n",
    "        swap(arr, low, j)\n",
    "        return j\n",
    "\n",
    "    def sorting(arr, low, high):\n",
    "        # if high <= low + CUTOFF -1:\n",
    "        #     insertion_sort(arr[low:high])\n",
    "\n",
    "        if low < high:\n",
    "            j = partition(arr, low, high)\n",
    "            sorting(arr, low, j-1)\n",
    "            sorting(arr, j+1, high)\n",
    "\n",
    "    CUTOFF = 4\n",
    "    shuffle(arr)\n",
    "    print(arr)\n",
    "    sorting(arr, 0, len(arr)-1)\n",
    "\n",
    "\n"
   ]
  },
  {
   "cell_type": "code",
   "execution_count": 7,
   "metadata": {
    "collapsed": true
   },
   "outputs": [],
   "source": [
    "def quick_sort3(arr,low, hi):\n",
    "    if hi <= low: return\n",
    "    pivot = arr[low]\n",
    "    lt = low\n",
    "    gt = hi\n",
    "    i = low\n",
    "    while i <= gt:\n",
    "        if arr[i] < pivot:\n",
    "            arr[i], arr[lt] = arr[lt], arr[i]\n",
    "            lt += 1\n",
    "            i += 1\n",
    "        elif arr[i] > pivot:\n",
    "            arr[i], arr[gt] = arr[gt], arr[i]\n",
    "            gt -= 1\n",
    "        else:\n",
    "            i+=1\n",
    "\n",
    "    quick_sort3(arr, low, lt - 1)\n",
    "    quick_sort3(arr, gt + 1, hi)"
   ]
  },
  {
   "cell_type": "markdown",
   "metadata": {},
   "source": [
    "## Heap Sort"
   ]
  },
  {
   "cell_type": "code",
   "execution_count": 8,
   "metadata": {
    "collapsed": true
   },
   "outputs": [],
   "source": [
    "def heap_sort(arr):\n",
    "    def sink(arr, k, N):\n",
    "        while 2*k <= N:\n",
    "            j = 2*k\n",
    "            if j < N and arr[j] < arr[j+1]: j+=1\n",
    "            if arr[j] <= arr[k]: break\n",
    "            swap(arr,  j, k)\n",
    "            k = j\n",
    "\n",
    "    N = len(arr)-1\n",
    "    # convert aList to heap\n",
    "    for k in range( N//2 , -1, -1 ):\n",
    "        sink(arr, k, N)\n",
    "    print (arr)\n",
    "\n",
    "    # flatten heap into sorted array\n",
    "    while N > 0:\n",
    "        swap(arr, 0, N)\n",
    "        N -= 1\n",
    "        sink(arr, 0, N)"
   ]
  },
  {
   "cell_type": "code",
   "execution_count": null,
   "metadata": {
    "collapsed": true
   },
   "outputs": [],
   "source": []
  },
  {
   "cell_type": "code",
   "execution_count": null,
   "metadata": {
    "collapsed": true
   },
   "outputs": [],
   "source": []
  },
  {
   "cell_type": "code",
   "execution_count": null,
   "metadata": {
    "collapsed": true
   },
   "outputs": [],
   "source": [
    "\n",
    "\n",
    "\n",
    "\n",
    "\n",
    "def kth_largest(lst, k):\n",
    "    def partition(lst, low, hi):\n",
    "        pivot = lst[low]\n",
    "        i = low + 1\n",
    "        j = hi\n",
    "        while True:\n",
    "            while lst[i] < pivot:\n",
    "                if i == hi: break\n",
    "                i += 1\n",
    "            while lst[j] > pivot:\n",
    "                if j == low: break\n",
    "                j -= 1\n",
    "            if i >= j: break\n",
    "            swap (lst, i, j)\n",
    "        swap (lst, low, j)\n",
    "\n",
    "        return j\n",
    "\n",
    "    def find(lst, k):\n",
    "        low = 0\n",
    "        hi = len(lst) -1\n",
    "        while low < hi:\n",
    "            j = partition(lst, low, hi)\n",
    "            if j < k:\n",
    "                low = j + 1;\n",
    "            elif j > k:\n",
    "                hi = j - 1;\n",
    "            else:\n",
    "                return lst[k];\n",
    "\n",
    "        return lst[k]\n",
    "    return find (lst, k)\n",
    "\n",
    "\n",
    "\n"
   ]
  },
  {
   "cell_type": "code",
   "execution_count": null,
   "metadata": {
    "collapsed": true
   },
   "outputs": [],
   "source": []
  },
  {
   "cell_type": "code",
   "execution_count": null,
   "metadata": {
    "collapsed": true
   },
   "outputs": [],
   "source": []
  },
  {
   "cell_type": "code",
   "execution_count": null,
   "metadata": {
    "collapsed": true
   },
   "outputs": [],
   "source": []
  },
  {
   "cell_type": "code",
   "execution_count": null,
   "metadata": {
    "collapsed": true
   },
   "outputs": [],
   "source": []
  },
  {
   "cell_type": "code",
   "execution_count": null,
   "metadata": {
    "collapsed": true
   },
   "outputs": [],
   "source": []
  },
  {
   "cell_type": "code",
   "execution_count": null,
   "metadata": {
    "collapsed": true
   },
   "outputs": [],
   "source": []
  },
  {
   "cell_type": "code",
   "execution_count": null,
   "metadata": {
    "collapsed": true
   },
   "outputs": [],
   "source": []
  },
  {
   "cell_type": "code",
   "execution_count": null,
   "metadata": {
    "collapsed": true
   },
   "outputs": [],
   "source": []
  }
 ],
 "metadata": {
  "kernelspec": {
   "display_name": "Python [default]",
   "language": "python",
   "name": "python3"
  },
  "language_info": {
   "codemirror_mode": {
    "name": "ipython",
    "version": 3
   },
   "file_extension": ".py",
   "mimetype": "text/x-python",
   "name": "python",
   "nbconvert_exporter": "python",
   "pygments_lexer": "ipython3",
   "version": "3.5.3"
  }
 },
 "nbformat": 4,
 "nbformat_minor": 2
}
